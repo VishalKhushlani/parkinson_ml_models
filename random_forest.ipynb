{
 "cells": [
  {
   "cell_type": "code",
   "execution_count": 1,
   "outputs": [],
   "source": [
    "import pandas as pd                 # pandas is a dataframe library\n",
    "import matplotlib.pyplot as plt\n",
    "from sklearn.model_selection import train_test_split"
   ],
   "metadata": {
    "collapsed": false,
    "pycharm": {
     "name": "#%%\n",
     "is_executing": false
    }
   }
  },
  {
   "cell_type": "code",
   "execution_count": 2,
   "outputs": [
    {
     "name": "stdout",
     "text": [
      "69.74% in training set\n30.26% in test set\n"
     ],
     "output_type": "stream"
    }
   ],
   "source": [
    "df = pd.read_csv(\"./parkinsons.data\")\n",
    "feature_col_names = ['MDVP:Fhi(Hz)', 'MDVP:Fo(Hz)', 'MDVP:Flo(Hz)', \n",
    "                     'MDVP:Jitter(%)', 'MDVP:Jitter(Abs)', 'MDVP:RAP',\n",
    "                     'MDVP:PPQ', 'Jitter:DDP', 'MDVP:Shimmer(dB)', 'Shimmer:APQ3', 'Shimmer:APQ5', \n",
    "                     'Shimmer:DDA', 'HNR']\n",
    "predicted_class_names = ['status']\n",
    "\n",
    "X = df[feature_col_names].values\n",
    "Y = df[predicted_class_names].values\n",
    "\n",
    "split_test_size = 0.30\n",
    "\n",
    "X_train, X_test, y_train, y_test = train_test_split(X, Y, test_size=split_test_size, random_state=42)\n",
    "\n",
    "print(\"{0:0.2f}% in training set\".format((len(X_train)/len(df.index)) * 100))\n",
    "print(\"{0:0.2f}% in test set\".format((len(X_test)/len(df.index)) * 100))"
   ],
   "metadata": {
    "collapsed": false,
    "pycharm": {
     "name": "#%%\n",
     "is_executing": false
    }
   }
  },
  {
   "cell_type": "code",
   "execution_count": 3,
   "outputs": [
    {
     "name": "stdout",
     "text": [
      "Original True  : 147 (75.38%)\nOriginal False : 48 (24.62%)\n\nTraining True  : 103 (75.74%)\nTraining False : 33 (24.26%)\n\nTest True      : 44 (74.58%)\nTest False     : 15 (25.42%)\n"
     ],
     "output_type": "stream"
    }
   ],
   "source": [
    "print(\"Original True  : {0} ({1:0.2f}%)\".format(len(df.loc[df['status'] == 1]), (len(df.loc[df['status'] == 1])/len(df.index)) * 100.0))\n",
    "print(\"Original False : {0} ({1:0.2f}%)\".format(len(df.loc[df['status'] == 0]), (len(df.loc[df['status'] == 0])/len(df.index)) * 100.0))\n",
    "print(\"\")\n",
    "print(\"Training True  : {0} ({1:0.2f}%)\".format(len(y_train[y_train[:] == 1]), (len(y_train[y_train[:] == 1])/len(y_train) * 100.0)))\n",
    "print(\"Training False : {0} ({1:0.2f}%)\".format(len(y_train[y_train[:] == 0]), (len(y_train[y_train[:] == 0])/len(y_train) * 100.0)))\n",
    "print(\"\")\n",
    "print(\"Test True      : {0} ({1:0.2f}%)\".format(len(y_test[y_test[:] == 1]), (len(y_test[y_test[:] == 1])/len(y_test) * 100.0)))\n",
    "print(\"Test False     : {0} ({1:0.2f}%)\".format(len(y_test[y_test[:] == 0]), (len(y_test[y_test[:] == 0])/len(y_test) * 100.0)))\n",
    "\n"
   ],
   "metadata": {
    "collapsed": false,
    "pycharm": {
     "name": "#%%\n",
     "is_executing": false
    }
   }
  },
  {
   "cell_type": "markdown",
   "source": [
    "##Training initial algorithm\n",
    "## Random Forest"
   ],
   "metadata": {
    "collapsed": false
   }
  },
  {
   "cell_type": "code",
   "execution_count": 4,
   "outputs": [],
   "source": [
    "from sklearn.ensemble import RandomForestClassifier\n",
    "rf_model = RandomForestClassifier(random_state=42, n_estimators=10)      # Create random forest object\n",
    "rf_model.fit(X_train, y_train.ravel()) \n",
    "\n",
    "# predict values using the training data\n",
    "rf_predict_train = rf_model.predict(X_train)\n",
    "\n",
    "# import the performance metrics library"
   ],
   "metadata": {
    "collapsed": false,
    "pycharm": {
     "name": "#%%\n",
     "is_executing": false
    }
   }
  },
  {
   "cell_type": "markdown",
   "source": [
    "### Performance on Training Data"
   ],
   "metadata": {
    "collapsed": false
   }
  },
  {
   "cell_type": "code",
   "execution_count": 5,
   "outputs": [
    {
     "name": "stdout",
     "text": [
      "Accuracy: 0.9926\n"
     ],
     "output_type": "stream"
    }
   ],
   "source": [
    "from sklearn import metrics\n",
    "# Accuracy\n",
    "print(\"Accuracy: {0:.4f}\".format(metrics.accuracy_score(y_train, rf_predict_train)))"
   ],
   "metadata": {
    "collapsed": false,
    "pycharm": {
     "name": "#%%\n",
     "is_executing": false
    }
   }
  },
  {
   "cell_type": "markdown",
   "source": [
    "### Performance on Testing Data"
   ],
   "metadata": {
    "collapsed": false
   }
  },
  {
   "cell_type": "code",
   "execution_count": 6,
   "outputs": [
    {
     "name": "stdout",
     "text": [
      "Accuracy: 0.8814\nrf_predict_test [1 1 1 1 1 1 1 1 0 1 1 1 1 1 1 1 1 1 1 1 1 0 1 0 1 0 1 1 0 1 1 1 1 0 1 0 1\n 1 1 1 1 1 0 1 1 1 0 1 0 0 1 1 1 1 1 1 0 0 0]\ny_test [[1]\n [1]\n [1]\n [1]\n [1]\n [1]\n [1]\n [1]\n [1]\n [1]\n [0]\n [1]\n [1]\n [1]\n [1]\n [1]\n [1]\n [1]\n [0]\n [1]\n [1]\n [1]\n [1]\n [0]\n [1]\n [1]\n [1]\n [1]\n [0]\n [1]\n [1]\n [1]\n [1]\n [0]\n [1]\n [0]\n [1]\n [0]\n [1]\n [1]\n [1]\n [1]\n [0]\n [1]\n [1]\n [1]\n [0]\n [0]\n [0]\n [0]\n [1]\n [1]\n [1]\n [1]\n [1]\n [1]\n [0]\n [0]\n [0]]\nAccuracy: 0.8814\n"
     ],
     "output_type": "stream"
    }
   ],
   "source": [
    "rf_predict_test = rf_model.predict(X_test)\n",
    "print(\"Accuracy: {0:.4f}\".format(metrics.accuracy_score(y_test, rf_predict_test)))\n",
    "\n",
    "from sklearn import metrics\n",
    "\n",
    "# training metrics\n",
    "print(\"rf_predict_test\", rf_predict_test)\n",
    "print (\"y_test\", y_test)\n",
    "print(\"Accuracy: {0:.4f}\".format(metrics.accuracy_score(y_test, rf_predict_test)))\n"
   ],
   "metadata": {
    "collapsed": false,
    "pycharm": {
     "name": "#%%\n",
     "is_executing": false
    }
   }
  },
  {
   "cell_type": "code",
   "execution_count": 7,
   "outputs": [
    {
     "name": "stdout",
     "text": [
      "Confusion Matrix\n[[11  4]\n [ 3 41]]\n\nClassification Report\n              precision    recall  f1-score   support\n\n           0       0.79      0.73      0.76        15\n           1       0.91      0.93      0.92        44\n\n    accuracy                           0.88        59\n   macro avg       0.85      0.83      0.84        59\nweighted avg       0.88      0.88      0.88        59\n\n"
     ],
     "output_type": "stream"
    }
   ],
   "source": [
    "print(\"Confusion Matrix\")\n",
    "print(\"{0}\".format(metrics.confusion_matrix(y_test, rf_predict_test)))\n",
    "print(\"\")\n",
    "\n",
    "print(\"Classification Report\")\n",
    "print(metrics.classification_report(y_test, rf_predict_test))"
   ],
   "metadata": {
    "collapsed": false,
    "pycharm": {
     "name": "#%%\n",
     "is_executing": false
    }
   }
  }
 ],
 "metadata": {
  "kernelspec": {
   "display_name": "Python 3",
   "language": "python",
   "name": "python3"
  },
  "language_info": {
   "codemirror_mode": {
    "name": "ipython",
    "version": 2
   },
   "file_extension": ".py",
   "mimetype": "text/x-python",
   "name": "python",
   "nbconvert_exporter": "python",
   "pygments_lexer": "ipython2",
   "version": "2.7.6"
  },
  "pycharm": {
   "stem_cell": {
    "cell_type": "raw",
    "source": [],
    "metadata": {
     "collapsed": false
    }
   }
  }
 },
 "nbformat": 4,
 "nbformat_minor": 0
}